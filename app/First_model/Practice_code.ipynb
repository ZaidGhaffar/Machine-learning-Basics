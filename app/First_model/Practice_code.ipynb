{
 "cells": [
  {
   "cell_type": "code",
   "execution_count": 5,
   "metadata": {},
   "outputs": [],
   "source": [
    "import torch\n",
    "from torch import nn\n",
    "from torch.optim import Adam\n",
    "from torch.utils.data import DataLoader\n",
    "from torchvision import transforms\n",
    "import torchvision "
   ]
  },
  {
   "cell_type": "code",
   "execution_count": 14,
   "metadata": {},
   "outputs": [
    {
     "name": "stdout",
     "output_type": "stream",
     "text": [
      "Device Using: cpu\n"
     ]
    }
   ],
   "source": [
    "device = torch.device(\"cuda\" if torch.cuda.is_available() else \"cpu\")\n",
    "print(f\"Device Using: {device}\")"
   ]
  },
  {
   "cell_type": "code",
   "execution_count": 7,
   "metadata": {},
   "outputs": [
    {
     "name": "stderr",
     "output_type": "stream",
     "text": [
      "100.0%\n"
     ]
    }
   ],
   "source": [
    "classes = ('plane', 'car', 'bird', 'cat', 'deer', 'dog', 'frog', 'horse', 'ship', 'truck')\n",
    "\n",
    "random_transforms = transforms.Compose([\n",
    "    transforms.RandomHorizontalFlip(),\n",
    "    transforms.ToTensor(),\n",
    "    transforms.Normalize((0.4914, 0.4822, 0.4465), (0.2023, 0.1994, 0.2010))\n",
    "\n",
    "])\n",
    "training_dataset = torchvision.datasets.CIFAR10(root=\"../data\",download=True,train=True,transform=random_transforms)\n",
    "train_loader = DataLoader(training_dataset,num_workers=2,shuffle=True,batch_size=128)\n",
    "\n",
    "\n",
    "test_dataset = torchvision.datasets.CIFAR10(root=\"../data\",train=False,download=True,transform=random_transforms)\n",
    "test_loader = DataLoader(test_dataset,shuffle=True,num_workers=2,batch_size=128)"
   ]
  },
  {
   "cell_type": "code",
   "execution_count": 9,
   "metadata": {},
   "outputs": [
    {
     "name": "stdout",
     "output_type": "stream",
     "text": [
      "Len of our training Samples 50000\n",
      "Len of our test Samples 10000\n"
     ]
    }
   ],
   "source": [
    "print(f\"Len of our training Samples {len(training_dataset)}\")\n",
    "print(f\"Len of our test Samples {len(test_dataset)}\")\n",
    "\n",
    "name = \"Zaid Ghaffar\""
   ]
  },
  {
   "cell_type": "code",
   "execution_count": null,
   "metadata": {},
   "outputs": [],
   "source": [
    "class Model(nn.Module):\n",
    "    def __init__(self):\n",
    "        super().__init__()\n",
    "        self.model = nn.Sequential(\n",
    "            nn.Conv2d(3, 32, 3, padding=1),\n",
    "            nn.Conv2d(32, 64, 3, padding=1),\n",
    "            nn.Conv2d(64, 64, 3, padding=1),\n",
    "            \n",
    "            # Pooling and dropout\n",
    "            nn.MaxPool2d(2, 2),\n",
    "            nn.Dropout(0.25),\n",
    "            nn.Dropout(0.5),\n",
    "            \n",
    "            # Fully connected layers\n",
    "            nn.Linear(64 * 4 * 4, 512),\n",
    "            nn.Linear(512, 10),\n",
    "            \n",
    "            # Activation\n",
    "            nn.ReLU()\n",
    "        )\n",
    "\n",
    "    def forward(self,x):\n",
    "        return self.model(x)\n"
   ]
  },
  {
   "cell_type": "code",
   "execution_count": 16,
   "metadata": {},
   "outputs": [],
   "source": [
    "from sklearn.metrics import accuracy_score,precision_score\n",
    "from datetime import datetime\n",
    "import os\n",
    "from torch.utils.tensorboard import SummaryWriter"
   ]
  },
  {
   "cell_type": "code",
   "execution_count": null,
   "metadata": {},
   "outputs": [],
   "source": [
    "class Trainer:\n",
    "    def __init__(self,train_loader,test_loader,Saved_model=\"CIFAR10_CNN\"):\n",
    "        self.model = Model()\n",
    "        self.train_loader = train_loader\n",
    "        self.test_loader = test_loader\n",
    "        self.loss_fun =nn.CrossEntropyLoss()\n",
    "        self.optimizer = Adam(self.model.Paramerts(),lr=0.001)\n",
    "\n",
    "        # Seeting up TensorBoard\n",
    "        timestamp = datetime.now().strftime('%Y%m%d_%H%M%S')\n",
    "        PATH_LOG_DIR = r\"\"\n",
    "        self.log_dir = os.path.join(PATH_LOG_DIR,f\"{Saved_model}_{timestamp}\")\n",
    "        self.writer = SummaryWriter(self.log_dir)\n",
    "\n",
    "    def train_model(self,epochs):\n",
    "        self.model.train()\n",
    "        training_metrics = {\"train_Loss\": [],\"train_accuracy\":[]}\n",
    "        for epoch in epochs:\n",
    "            running_loss = {\"Loss\":0.00,\"total\":0,\"correct\":0}\n",
    "            for i,(inputs,labels) in enumerate(self.train_loader):\n",
    "                inputs,labels = inputs.to(device),labels.to(device)\n",
    "                self.optimizer.zero_grad()\n",
    "                yhat = self.model(input)\n",
    "                loss = self.loss_fun(yhat,labels)\n",
    "                loss.backward()\n",
    "                self.optimizer.step()\n",
    "                running_loss[\"Loss\"] = loss.item()\n",
    "                _,predicted =torch.max(yhat,1)\n",
    "                running_loss[\"total\"] = labels.size(0)\n",
    "                running_loss[\"correct\"] = (predicted == labels).sum().item()\n",
    "\n",
    "                print(f\"Epochs:        {epoch+1}/{epochs} \\n   Loss Per Epoc: {running_loss[\"Loss\"]}  \\n Accuracy: {running_loss[\"correct\"]*100/running_loss[\"total\"]}\")\n",
    "            epoch_loss = running_loss[\"Loss\"]/len(self.train_loader)\n",
    "            epoch_accuracy = running_loss[\"correct\"] *100/running_loss[\"total\"]\n",
    "            training_metrics[\"train_Loss\"].append(epoch_loss)\n",
    "            training_metrics[\"train_accuracy\"].append(epoch_accuracy)\n",
    "\n",
    "            self.writer.add_scaler(f\"Loss/Epoch:    {training_metrics[\"train_Loss\"],epoch}\")\n",
    "            self.writer.add_scaler(f\"Accuracy/Epoch:    {training_metrics[\"train_accuracy\"],epoch}\")\n",
    "\n",
    "    def Test_model(self):\n",
    "        pass\n",
    "\n"
   ]
  }
 ],
 "metadata": {
  "kernelspec": {
   "display_name": ".venv",
   "language": "python",
   "name": "python3"
  },
  "language_info": {
   "codemirror_mode": {
    "name": "ipython",
    "version": 3
   },
   "file_extension": ".py",
   "mimetype": "text/x-python",
   "name": "python",
   "nbconvert_exporter": "python",
   "pygments_lexer": "ipython3",
   "version": "3.13.3"
  }
 },
 "nbformat": 4,
 "nbformat_minor": 2
}
